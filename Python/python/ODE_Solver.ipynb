{
 "cells": [
  {
   "cell_type": "code",
   "execution_count": 12,
   "id": "f70e9a40",
   "metadata": {},
   "outputs": [],
   "source": [
    "import numpy as np\n",
    "from scipy.integrate import odeint\n",
    "import matplotlib.pyplot as plt"
   ]
  },
  {
   "cell_type": "code",
   "execution_count": 32,
   "id": "7b6ec55c",
   "metadata": {},
   "outputs": [],
   "source": [
    "def firstorder(y,t, tau, K, u):\n",
    "    #tau=5.0\n",
    "    #K=2.0\n",
    "    #u=1.0\n",
    "    dydt= (-y+K*u)/tau\n",
    "    return dydt"
   ]
  },
  {
   "cell_type": "code",
   "execution_count": 37,
   "id": "6165ddf7",
   "metadata": {},
   "outputs": [],
   "source": [
    "t=np.linspace(0,10,20)\n",
    "u=np.zeros(len(t))\n",
    "u[5:]=1\n",
    "tau=5.0\n",
    "K=2.0\n",
    "y0=0"
   ]
  },
  {
   "cell_type": "code",
   "execution_count": 38,
   "id": "e387da03",
   "metadata": {},
   "outputs": [],
   "source": [
    "ys = np.zeros(len(t))\n",
    "ys[0]=y0\n",
    "for i in range(len(t)-1):\n",
    "    ts=[t[i],t[i+1]]\n",
    "    y = odeint(firstorder, y0, ts, args=(tau, K, u[i]))\n",
    "    y0=y[1]\n",
    "    ys[i+1]=y0"
   ]
  },
  {
   "cell_type": "code",
   "execution_count": 35,
   "id": "37667944",
   "metadata": {},
   "outputs": [
    {
     "data": {
      "text/plain": [
       "array([0.        , 0.        , 0.        , 0.        , 0.19982473,\n",
       "       0.3796845 , 0.54157404, 0.68728882, 0.81844487, 0.93649682,\n",
       "       1.0427539 , 1.13839459, 1.22447959, 1.30196363, 1.37170605,\n",
       "       1.43448034, 1.4909827 , 1.54183977, 1.58761559, 1.62881784])"
      ]
     },
     "execution_count": 35,
     "metadata": {},
     "output_type": "execute_result"
    }
   ],
   "source": [
    "ys"
   ]
  },
  {
   "cell_type": "code",
   "execution_count": 39,
   "id": "eb78fcf1",
   "metadata": {},
   "outputs": [
    {
     "data": {
      "image/png": "[encoded data removed]",
      "text/plain": [
       "<Figure size 432x288 with 1 Axes>"
      ]
     },
     "metadata": {
      "needs_background": "light"
     },
     "output_type": "display_data"
    }
   ],
   "source": [
    "plt.plot(t,ys)\n",
    "plt.show()"
   ]
  },
  {
   "cell_type": "code",
   "execution_count": null,
   "id": "d8ed06bc",
   "metadata": {},
   "outputs": [],
   "source": [
    "# second order differential equation\n",
    "#  theta'' (t) + b*theta' (t) +c* sin(theta(t))=0 "
   ]
  },
  {
   "cell_type": "code",
   "execution_count": null,
   "id": "e0d1d48e",
   "metadata": {},
   "outputs": [],
   "source": [
    "#where b and c are positive constants, and a prime ' denotes a derivative. To solve the equation with odeint, \n",
    "#we must first convert it to a first order equations. "
   ]
  },
  {
   "cell_type": "code",
   "execution_count": null,
   "id": "ba4e6640",
   "metadata": {},
   "outputs": [],
   "source": [
    "#   theta'(t)=omega(t)\n",
    "#   omega'(t)=-b*omega(t)-c*sin(theta(t))\n",
    "# let y be the vector"
   ]
  },
  {
   "cell_type": "code",
   "execution_count": null,
   "id": "b6f9e742",
   "metadata": {},
   "outputs": [],
   "source": [
    "def pend(y, t, b1, b2, c):\n",
    "    theta, omega =y\n",
    "    dydt=[omega, -(b1+b2)*omega-c*np.sin(theta)]\n",
    "    return dydt\n",
    "\n",
    "b1=0.125\n",
    "b2=0.125\n",
    "c=5.0\n",
    "\n",
    "y0 = [np.pi - 0.1, 0.0]      #initial condition\n",
    "t = np.linspace(0, 10, 101)  #time interval\n",
    "\n",
    "sol = odeint(pend, y0, t, args=(b1, b2, c)) \n",
    "\n",
    "import matplotlib.pyplot as plt\n",
    "plt.plot(t, sol[:, 0], 'b', label='theta(t)')\n",
    "plt.plot(t, sol[:, 1], 'g', label='omega(t)')\n",
    "plt.legend(loc='best')\n",
    "plt.xlabel('t')\n",
    "plt.grid()\n",
    "plt.show()"
   ]
  },
  {
   "cell_type": "code",
   "execution_count": null,
   "id": "4d717edd",
   "metadata": {},
   "outputs": [],
   "source": []
  }
 ],
 "metadata": {
  "kernelspec": {
   "display_name": "Python 3",
   "language": "python",
   "name": "python3"
  },
  "language_info": {
   "codemirror_mode": {
    "name": "ipython",
    "version": 3
   },
   "file_extension": ".py",
   "mimetype": "text/x-python",
   "name": "python",
   "nbconvert_exporter": "python",
   "pygments_lexer": "ipython3",
   "version": "3.8.8"
  }
 },
 "nbformat": 4,
 "nbformat_minor": 5
}
