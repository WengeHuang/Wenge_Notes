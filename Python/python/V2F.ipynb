{
 "cells": [
  {
   "cell_type": "code",
   "execution_count": 329,
   "id": "a311f9a4",
   "metadata": {},
   "outputs": [],
   "source": [
    "import cv2\n",
    "\n",
    "# cap=cv2.VideoCapture(0).   #This will return video from the first webcam on your computer.\n",
    "path1='H:/OakRidge_Substrate_Side/130C_40_160_80/5_s.avi'\n",
    "path2='F:/Oak_Ridge_Side_Video2Frame/130C_40_160_80/5_t'\n",
    "path3='G:/Oak_Ridge_Substrate_Top/130C_40_160_80/5_t_C001H001S0001/5_t_C001H001S0001.avi'\n",
    "path4='I:/Oak_Ridge_Substrate_side_part2/130C_40_160_80/3_s.avi'\n",
    "cap=cv2.VideoCapture(path3)\n",
    "i=0\n",
    "frame_skip=1\n",
    "while(True):\n",
    "    ret, frame = cap.read()\n",
    "    if ret == False:\n",
    "        break\n",
    "    if i % frame_skip == 0:                                                                # this is used to skip some frames\n",
    "        gray = cv2.cvtColor(frame, cv2.COLOR_BGR2GRAY)     # convert the images from BGR into gray \n",
    "        cv2.imwrite(path2+'/'+str(i)+'.jpg',gray)                                             # here we use str(i) because .jpg us string   you can add path here to save                                                               \n",
    "    i+=1\n",
    "\n",
    "cap.release()\n",
    "cv2.destroyAllWindows()"
   ]
  },
  {
   "cell_type": "code",
   "execution_count": null,
   "id": "402721af",
   "metadata": {},
   "outputs": [],
   "source": []
  },
  {
   "cell_type": "code",
   "execution_count": null,
   "id": "b7625f4f",
   "metadata": {},
   "outputs": [],
   "source": []
  }
 ],
 "metadata": {
  "kernelspec": {
   "display_name": "Python 3",
   "language": "python",
   "name": "python3"
  },
  "language_info": {
   "codemirror_mode": {
    "name": "ipython",
    "version": 3
   },
   "file_extension": ".py",
   "mimetype": "text/x-python",
   "name": "python",
   "nbconvert_exporter": "python",
   "pygments_lexer": "ipython3",
   "version": "3.8.8"
  }
 },
 "nbformat": 4,
 "nbformat_minor": 5
}
