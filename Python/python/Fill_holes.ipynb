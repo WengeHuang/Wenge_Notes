{
 "cells": [
  {
   "cell_type": "code",
   "execution_count": 9,
   "id": "b76d5516",
   "metadata": {},
   "outputs": [
    {
     "data": {
      "text/plain": [
       "-1"
      ]
     },
     "execution_count": 9,
     "metadata": {},
     "output_type": "execute_result"
    }
   ],
   "source": [
    "import cv2;\n",
    "import numpy as np;\n",
    "import pandas as pd;\n",
    "# Read image\n",
    "im_in = cv2.imread('D:/Evaporation_paper/Wenzel_Boiling_Cassie_transition/Video2framespy/2.jpg', cv2.IMREAD_GRAYSCALE);\n",
    "\n",
    "# Threshold.\n",
    "# Set values equal to or above threshold to 0.\n",
    "# Set values below threshold to 255.\n",
    "thresh=140\n",
    "\n",
    "th, im_th = cv2.threshold(im_in, thresh, 255, cv2.THRESH_BINARY_INV);\n",
    "\n",
    "# Copy the thresholded image.\n",
    "im_floodfill = im_th.copy()\n",
    "\n",
    "file=pd.DataFrame(im_floodfill)\n",
    "file.to_csv('D:/Evaporation_paper/Wenzel_Boiling_Cassie_transition/Video2framespy/b.csv')\n",
    "\n",
    "\n",
    "# Mask used to flood filling.\n",
    "# Notice the size needs to be 2 pixels than the image.\n",
    "h, w = im_th.shape[:2]\n",
    "mask = np.zeros((h+2, w+2), np.uint8)\n",
    "\n",
    "\n",
    "# Floodfill from point (0, 0)\n",
    "cv2.floodFill(im_floodfill, mask, (20,20), 255);\n",
    "\n",
    "\n",
    "# Invert floodfilled image\n",
    "im_floodfill_inv = cv2.bitwise_not(im_floodfill)\n",
    "\n",
    "# Combine the two images to get the foreground.\n",
    "im_out = im_th | im_floodfill_inv\n",
    "\n",
    "#im_b = im_out.copy()/255\n",
    "#file=pd.DataFrame(im_b)\n",
    "#file.to_csv('b.csv',)\n",
    "\n",
    "\n",
    "# Display images.\n",
    "cv2.imshow(\"Thresholded Image\", im_th)\n",
    "cv2.imshow(\"Floodfilled Image\", im_floodfill)\n",
    "cv2.imshow(\"Inverted Floodfilled Image\", im_floodfill_inv)\n",
    "cv2.imshow(\"Foreground\", im_out)\n",
    "+\n"
   ]
  },
  {
   "cell_type": "code",
   "execution_count": 11,
   "id": "faa4df82",
   "metadata": {},
   "outputs": [
    {
     "data": {
      "text/plain": [
       "752"
      ]
     },
     "execution_count": 11,
     "metadata": {},
     "output_type": "execute_result"
    }
   ],
   "source": [
    "h"
   ]
  },
  {
   "cell_type": "code",
   "execution_count": 3,
   "id": "e9e109d4",
   "metadata": {},
   "outputs": [
    {
     "data": {
      "text/plain": [
       "512"
      ]
     },
     "execution_count": 3,
     "metadata": {},
     "output_type": "execute_result"
    }
   ],
   "source": [
    "w"
   ]
  },
  {
   "cell_type": "code",
   "execution_count": null,
   "id": "ce725f7e",
   "metadata": {},
   "outputs": [],
   "source": []
  }
 ],
 "metadata": {
  "kernelspec": {
   "display_name": "Python 3",
   "language": "python",
   "name": "python3"
  },
  "language_info": {
   "codemirror_mode": {
    "name": "ipython",
    "version": 3
   },
   "file_extension": ".py",
   "mimetype": "text/x-python",
   "name": "python",
   "nbconvert_exporter": "python",
   "pygments_lexer": "ipython3",
   "version": "3.8.8"
  }
 },
 "nbformat": 4,
 "nbformat_minor": 5
}
