{
 "cells": [
  {
   "cell_type": "code",
   "execution_count": 82,
   "id": "541a69d6",
   "metadata": {},
   "outputs": [
    {
     "data": {
      "text/plain": [
       "-1"
      ]
     },
     "execution_count": 82,
     "metadata": {},
     "output_type": "execute_result"
    }
   ],
   "source": [
    "import cv2\n",
    "\n",
    "path='G:/Thermal_images/60C'\n",
    "image = cv2.imread(path+'/20_40_40um_60C_1.png', 0)\n",
    "heatmap = cv2.applyColorMap(image, cv2.COLORMAP_HSV)\n",
    "\n",
    "cv2.imwrite(path+'/T1.jpg',heatmap)\n",
    "cv2.imshow('heatmap', heatmap)\n",
    "cv2.waitKey()"
   ]
  },
  {
   "cell_type": "code",
   "execution_count": null,
   "id": "969036a1",
   "metadata": {},
   "outputs": [],
   "source": []
  }
 ],
 "metadata": {
  "kernelspec": {
   "display_name": "Python 3",
   "language": "python",
   "name": "python3"
  },
  "language_info": {
   "codemirror_mode": {
    "name": "ipython",
    "version": 3
   },
   "file_extension": ".py",
   "mimetype": "text/x-python",
   "name": "python",
   "nbconvert_exporter": "python",
   "pygments_lexer": "ipython3",
   "version": "3.8.8"
  }
 },
 "nbformat": 4,
 "nbformat_minor": 5
}
