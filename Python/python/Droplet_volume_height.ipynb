{
 "cells": [
  {
   "cell_type": "code",
   "execution_count": 292,
   "id": "65f0b690",
   "metadata": {},
   "outputs": [
    {
     "data": {
      "text/plain": [
       "-1"
      ]
     },
     "execution_count": 292,
     "metadata": {},
     "output_type": "execute_result"
    }
   ],
   "source": [
    "import cv2\n",
    "import glob\n",
    "import os\n",
    "import numpy as np;\n",
    "import pandas as pd;\n",
    "\n",
    "path='D:/Evaporation_paper/Wenzel_Boiling_Cassie_transition/Video2framespy_4'\n",
    "\n",
    "Time=[]\n",
    "Volume=[]\n",
    "Height=[]\n",
    "#images=[cv2.imread(file) for file in glob.glob('F:/Droplet_vibration/Self_propulsion Droplet on thin hot oil film/Video2Frames/*.jpg')]\n",
    "for imagepath in glob.glob(path+'/140C_4_2/*.jpg'): #/120C_1.5_1_1\n",
    "    #obtain the path of the picture\n",
    "    \n",
    "    #with the picture path, transfer the picture into grayscale matrix\n",
    "    im_gray=cv2.imread(str(imagepath),cv2.IMREAD_GRAYSCALE)\n",
    "    \n",
    "    #set threshold\n",
    "    thresh=100\n",
    "    \n",
    "    #transfer grayscale into binaryscale\n",
    "    th, im_b = cv2.threshold(im_gray, thresh, 255, cv2.THRESH_BINARY_INV)\n",
    "    \n",
    "    # Copy the thresholded image.\n",
    "    im_floodfill = im_b.copy()\n",
    "    \n",
    "    # Mask used to flood filling.\n",
    "    # Notice the size needs to be 2 pixels than the image.\n",
    "    h, w = im_gray.shape[:2]\n",
    "    mask = np.zeros((h+2, w+2), np.uint8)\n",
    "    \n",
    "    # Floodfill from point (0, 0)\n",
    "    cv2.floodFill(im_floodfill, mask, (20,20), 255);\n",
    "    \n",
    "    # Invert floodfilled image\n",
    "    im_floodfill_inv = cv2.bitwise_not(im_floodfill)\n",
    "    \n",
    "    # Combine the two images to get the foreground.\n",
    "    # Get the images with holes filled\n",
    "    im_out = im_b | im_floodfill_inv\n",
    "    \n",
    "    \n",
    "    im = im_out.copy()/255\n",
    "    file=pd.DataFrame(im*10)\n",
    "    #file.to_csv(path+'/a.csv')\n",
    "    \n",
    "    \n",
    "    \n",
    "    # Calculate the width of the droplet \n",
    "    width=sum(im.T)[:]\n",
    "    r=int(width.shape[0])\n",
    "    v=0\n",
    "    base=417\n",
    "    # Calsulate the volume of droplet in the chosen image \n",
    "    scalebar=31\n",
    "    for j in range(30,base):\n",
    "        v=v+width[j-1]**2*3.1415926/4*((0.312/scalebar)**3)\n",
    "    Volume=np.append(Volume,v)\n",
    "    \n",
    "    for i in range(30,base):\n",
    "        if width[i] >= 70:\n",
    "            height=(base-i+7)*(0.312/scalebar)\n",
    "            height2=(base-i+7)\n",
    "            break\n",
    "    Height=np.append(Height,height2)\n",
    "    \n",
    "    Time=np.append(Time,int(os.path.basename(imagepath).split('.')[0]))  \n",
    "    \n",
    "    #combine the Time and Volume\n",
    "    point=zip(Time,Volume,Height)    #combine\n",
    "    cc=sorted(point)          #sort the list with ascending Time\n",
    "    f=pd.DataFrame(cc)\n",
    "    f.to_csv(path+'/Output14_4_2_417.csv',index=False, header=False)\n",
    "    \n",
    "    #cv2.imshow(os.path.basename(imagepath), im)\n",
    "    #print(os.path.basename(imagepath).split('.')[0])\n",
    "    \n",
    "cv2.waitKey(0)"
   ]
  },
  {
   "cell_type": "code",
   "execution_count": null,
   "id": "843b3fd8",
   "metadata": {},
   "outputs": [],
   "source": []
  },
  {
   "cell_type": "code",
   "execution_count": 291,
   "id": "141004c0",
   "metadata": {},
   "outputs": [
    {
     "name": "stdout",
     "output_type": "stream",
     "text": [
      "0\n",
      "1\n",
      "2\n"
     ]
    },
    {
     "data": {
      "text/plain": [
       "-1"
      ]
     },
     "execution_count": 291,
     "metadata": {},
     "output_type": "execute_result"
    }
   ],
   "source": [
    "import cv2\n",
    "import glob\n",
    "import os\n",
    "import numpy as np;\n",
    "import pandas as pd;\n",
    "\n",
    "path='D:/Evaporation_paper/Wenzel_Boiling_Cassie_transition/Video2framespy_4'\n",
    "\n",
    "Time=[]\n",
    "Volume=[]\n",
    "Height=[]\n",
    "#images=[cv2.imread(file) for file in glob.glob('F:/Droplet_vibration/Self_propulsion Droplet on thin hot oil film/Video2Frames/*.jpg')]\n",
    "for imagepath in glob.glob(path+'/*.jpg'): #/120C_1.5_1_1\n",
    "    #obtain the path of the picture\n",
    "    \n",
    "    #with the picture path, transfer the picture into grayscale matrix\n",
    "    im_gray=cv2.imread(str(imagepath),cv2.IMREAD_GRAYSCALE)\n",
    "    \n",
    "    #set threshold\n",
    "    thresh=100\n",
    "    \n",
    "    #transfer grayscale into binaryscale\n",
    "    th, im_b = cv2.threshold(im_gray, thresh, 255, cv2.THRESH_BINARY_INV)\n",
    "    \n",
    "    # Copy the thresholded image.\n",
    "    im_floodfill = im_b.copy()\n",
    "    \n",
    "    # Mask used to flood filling.\n",
    "    # Notice the size needs to be 2 pixels than the image.\n",
    "    h, w = im_gray.shape[:2]\n",
    "    mask = np.zeros((h+2, w+2), np.uint8)\n",
    "    \n",
    "    # Floodfill from point (0, 0)\n",
    "    cv2.floodFill(im_floodfill, mask, (20,20), 255);\n",
    "    \n",
    "    # Invert floodfilled image\n",
    "    im_floodfill_inv = cv2.bitwise_not(im_floodfill)\n",
    "    \n",
    "    # Combine the two images to get the foreground.\n",
    "    # Get the images with holes filled\n",
    "    im_out = im_b | im_floodfill_inv\n",
    "    \n",
    "    \n",
    "    im = im_out.copy()/255\n",
    "    file=pd.DataFrame(im*10)\n",
    "    file.to_csv(path+'/a.csv')\n",
    "\n",
    "    #cv2.imshow(os.path.basename(imagepath), im)\n",
    "    print(os.path.basename(imagepath).split('.')[0])\n",
    "    \n",
    "cv2.waitKey(0)"
   ]
  },
  {
   "cell_type": "code",
   "execution_count": null,
   "id": "8ac1489f",
   "metadata": {},
   "outputs": [],
   "source": []
  }
 ],
 "metadata": {
  "kernelspec": {
   "display_name": "Python 3",
   "language": "python",
   "name": "python3"
  },
  "language_info": {
   "codemirror_mode": {
    "name": "ipython",
    "version": 3
   },
   "file_extension": ".py",
   "mimetype": "text/x-python",
   "name": "python",
   "nbconvert_exporter": "python",
   "pygments_lexer": "ipython3",
   "version": "3.8.8"
  }
 },
 "nbformat": 4,
 "nbformat_minor": 5
}
