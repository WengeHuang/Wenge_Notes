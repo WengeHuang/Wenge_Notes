{
 "cells": [
  {
   "cell_type": "code",
   "execution_count": 63,
   "id": "cfc14945",
   "metadata": {},
   "outputs": [],
   "source": [
    "import cv2\n",
    "import numpy as np\n",
    "import glob\n",
    "import os\n",
    "\n",
    "paths='F:/Frame2Video/130C_40_160_40_5/'\n",
    "#paths='D:/Evaporation_paper/Wenzel_Boiling_Cassie_transition/Frames2videopy_20_80_40/'\n",
    "path_list = os.listdir(paths)\n",
    "path_list.sort(key=lambda x:int(x[:-4]))\n",
    "\n",
    "img_array = []\n",
    "#for filename in glob.glob('D:/Evaporation_paper/Wenzel_Boiling_Cassie_transition/Combined_frames/*.jpg'):\n",
    "for j in range(0,len(path_list)):\n",
    "    img = cv2.imread(paths+path_list[j])\n",
    "    height, width, layers = img.shape\n",
    "    size = (width,height)\n",
    "    img_array.append(img)\n",
    "\n",
    "\n",
    "out = cv2.VideoWriter(paths+'project.avi',cv2.VideoWriter_fourcc(*'DIVX'), 15, size)\n",
    " \n",
    "for i in range(len(img_array)):\n",
    "    out.write(img_array[i])\n",
    "out.release()"
   ]
  },
  {
   "cell_type": "code",
   "execution_count": null,
   "id": "8a28d5d7",
   "metadata": {},
   "outputs": [],
   "source": []
  },
  {
   "cell_type": "code",
   "execution_count": null,
   "id": "3421fae3",
   "metadata": {},
   "outputs": [],
   "source": []
  },
  {
   "cell_type": "code",
   "execution_count": null,
   "id": "7ec790da",
   "metadata": {},
   "outputs": [],
   "source": []
  }
 ],
 "metadata": {
  "kernelspec": {
   "display_name": "Python 3",
   "language": "python",
   "name": "python3"
  },
  "language_info": {
   "codemirror_mode": {
    "name": "ipython",
    "version": 3
   },
   "file_extension": ".py",
   "mimetype": "text/x-python",
   "name": "python",
   "nbconvert_exporter": "python",
   "pygments_lexer": "ipython3",
   "version": "3.8.8"
  }
 },
 "nbformat": 4,
 "nbformat_minor": 5
}
